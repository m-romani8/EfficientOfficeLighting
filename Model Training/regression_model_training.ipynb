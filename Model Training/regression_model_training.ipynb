{
 "cells": [
  {
   "cell_type": "markdown",
   "id": "cde3516e",
   "metadata": {},
   "source": [
    "# Automatic Brightness\n",
    "#### Machine Learning model to predict the brightness of the lamp, based on the current ambient light (in lux) and the user's desired lux. Link to the dataset: https://www.kaggle.com/datasets/ziya07/iot-based-environmental-dataset\n"
   ]
  },
  {
   "cell_type": "code",
   "execution_count": 5,
   "id": "04559d2b",
   "metadata": {},
   "outputs": [
    {
     "name": "stdout",
     "output_type": "stream",
     "text": [
      "Libraries imported successfully.\n"
     ]
    }
   ],
   "source": [
    "import pandas as pd\n",
    "import numpy as np\n",
    "import matplotlib.pyplot as plt\n",
    "import seaborn as sns\n",
    "from sklearn.model_selection import train_test_split\n",
    "from sklearn.tree import DecisionTreeRegressor\n",
    "from sklearn.metrics import mean_squared_error, r2_score\n",
    "\n",
    "print(\"Libraries imported successfully.\")"
   ]
  },
  {
   "cell_type": "markdown",
   "id": "98a752a6",
   "metadata": {},
   "source": [
    "## Desk Lamp Characteristics\n",
    "The physical characteristics of the desk lamp that this IoT\n",
    "system will control are based on the reference model Xiaomi Mi LED Desk Lamp 1S and are crucial for\n",
    "generating a realistic dataset."
   ]
  },
  {
   "cell_type": "code",
   "execution_count": null,
   "id": "147a709e",
   "metadata": {},
   "outputs": [
    {
     "name": "stdout",
     "output_type": "stream",
     "text": [
      "Lamp model defined: capable of providing 0.0 to 1000.0 Lux.\n"
     ]
    }
   ],
   "source": [
    "# Define the constants for the reference lamp\n",
    "LAMP_MAX_LUX = 1000.0  # Maximum illuminance the lamp can add (in Lux)\n",
    "LAMP_MIN_LUX = 0.0     # Minimum illuminance (when off)\n",
    "\n",
    "print(f\"Lamp model defined: capable of providing {LAMP_MIN_LUX} to {LAMP_MAX_LUX} Lux.\")"
   ]
  },
  {
   "cell_type": "markdown",
   "id": "ddea0240",
   "metadata": {},
   "source": [
    "\n",
    "## Loading and Preparing Ambient Data\n",
    "\n",
    "The dataset \"university_mental_health_iot_dataset.csv\" is used to obtain realistic values of ambient brightness througout the day.\n",
    "Since the model will rely on the current lux, only the 'lighting_lux' column will be taken from the source."
   ]
  },
  {
   "cell_type": "code",
   "execution_count": 7,
   "id": "69294c4c",
   "metadata": {},
   "outputs": [
    {
     "name": "stdout",
     "output_type": "stream",
     "text": [
      "Loaded 1000 samples of ambient light.\n",
      "\n",
      "Descriptive statistics for ambient light (Lux):\n",
      "count    1000.000000\n",
      "mean      301.500435\n",
      "std        48.873955\n",
      "min       155.222115\n",
      "25%       267.386280\n",
      "50%       300.471291\n",
      "75%       334.167401\n",
      "max       502.627506\n",
      "Name: lighting_lux, dtype: float64\n"
     ]
    }
   ],
   "source": [
    "try:\n",
    "    df_ambient = pd.read_csv('university_mental_health_iot_dataset.csv')\n",
    "    ambient_lux_data = df_ambient['lighting_lux'].dropna()\n",
    "    print(f\"Loaded {len(ambient_lux_data)} samples of ambient light.\")\n",
    "    print(\"\\nDescriptive statistics for ambient light (Lux):\")\n",
    "    print(ambient_lux_data.describe())\n",
    "except FileNotFoundError:\n",
    "    print(\"ERROR: File 'university_mental_health_iot_dataset.csv' not found.\")\n",
    "    print(\"Please upload the file and run the cell again.\")\n",
    "    ambient_lux_data = pd.Series([]) # Create an empty series to avoid later errors"
   ]
  },
  {
   "cell_type": "markdown",
   "id": "e5b96c60",
   "metadata": {},
   "source": [
    " \n",
    "## Synthetic Data Generation\n",
    "\n",
    " This is the key section. The training dataset is created following this requirements:\n",
    " 1. 'Ambient Lux': Taken from the real-world data.\n",
    " 2. 'Desired Lux': A random value between 80% of the maximum ambient light and 100% of the maximum\n",
    "    ambient light peak additioned to the maximum lux the lamp can provide, but always greater or equal than the current 'Ambient Lux'.\n",
    " 3. 'Dimming Level (%)': Calculated to cover the difference between Desired and Ambient.\n",
    "\n",
    "Since the dimming level is computed as a function of the Ambient Lux, the Desired Lux and the Maximum Lux Output of the desk lamp (that is known beforehand), basically the machine learning model is trained to find a relation that is easily, exactly and mathematically obtainable, making this machine learning model swappable for a faster alternative in this IoT application. However, the ml implementation is left as a proof of concept for a future better model.\n",
    " "
   ]
  },
  {
   "cell_type": "code",
   "execution_count": null,
   "id": "38b73780",
   "metadata": {},
   "outputs": [
    {
     "name": "stdout",
     "output_type": "stream",
     "text": [
      "\n",
      "Range for 'Desired Lux' calculated: from 402.10 to 1502.63 Lux.\n",
      "\n",
      "Synthetic dataset generated successfully!\n",
      "First 5 rows of the training dataset:\n",
      "   Ambient Lux  Desired Lux  Dimming Level (%)\n",
      "0   323.015836  1387.472711         100.000000\n",
      "1   412.211259  1242.985504          83.077425\n",
      "2   386.972786   883.170221          49.619744\n",
      "3   339.056874   443.924966          10.486809\n",
      "4   341.460697  1259.889452          91.842875\n",
      "\n",
      "Statistics of the training dataset:\n",
      "       Ambient Lux  Desired Lux  Dimming Level (%)\n",
      "count  1000.000000  1000.000000        1000.000000\n",
      "mean    301.500435   953.729082          63.209583\n",
      "std      48.873955   321.609970          29.779184\n",
      "min     155.222115   405.024738           1.832656\n",
      "25%     267.386280   660.110298          36.297364\n",
      "50%     300.471291   971.441488          66.161334\n",
      "75%     334.167401  1226.046862          92.967156\n",
      "max     502.627506  1499.801160         100.000000\n"
     ]
    }
   ],
   "source": [
    "if not ambient_lux_data.empty:\n",
    "    # 1. Determine the range for 'Desired Lux'\n",
    "    global_max_ambient_lux = ambient_lux_data.max()\n",
    "    desired_lux_min = 0.8 * global_max_ambient_lux\n",
    "    desired_lux_max = global_max_ambient_lux + LAMP_MAX_LUX\n",
    "\n",
    "    print(f\"\\nRange for 'Desired Lux' calculated: from {desired_lux_min:.2f} to {desired_lux_max:.2f} Lux.\")\n",
    "\n",
    "    dataset_list = []\n",
    "    for ambient_lux in ambient_lux_data:\n",
    "\n",
    "        random_desired_lux = np.random.uniform(desired_lux_min, desired_lux_max)\n",
    "\n",
    "        desired_lux = max(ambient_lux, random_desired_lux)\n",
    "\n",
    "        lux_to_provide = desired_lux - ambient_lux\n",
    "\n",
    "        lux_to_provide = np.clip(lux_to_provide, LAMP_MIN_LUX, LAMP_MAX_LUX)\n",
    "\n",
    "        if LAMP_MAX_LUX > 0:\n",
    "            dimming_level = (lux_to_provide / LAMP_MAX_LUX) * 100\n",
    "        else:\n",
    "            dimming_level = 0\n",
    "\n",
    "        dataset_list.append({\n",
    "            'Ambient Lux': ambient_lux,\n",
    "            'Desired Lux': desired_lux,\n",
    "            'Dimming Level (%)': dimming_level\n",
    "        })\n",
    "\n",
    "    df_train = pd.DataFrame(dataset_list)\n",
    "\n",
    "    print(\"\\nSynthetic dataset generated successfully!\")\n",
    "    print(\"First 5 rows of the training dataset:\")\n",
    "    print(df_train.head())\n",
    "    print(\"\\nStatistics of the training dataset:\")\n",
    "    print(df_train.describe())"
   ]
  },
  {
   "cell_type": "markdown",
   "id": "04bbfdfe",
   "metadata": {},
   "source": [
    " \n",
    "## Machine Learning Model Training\n",
    " \n",
    "\n",
    " For this IoT application a small and lightweight model is needed.\n",
    " A Decision Tree Regressor is an excellent choice because it is interpretable,\n",
    " does not require data normalization, and can be easily converted to C code\n",
    " with 'emlearn'.\n",
    " "
   ]
  },
  {
   "cell_type": "code",
   "execution_count": null,
   "id": "760a06c5",
   "metadata": {},
   "outputs": [
    {
     "name": "stdout",
     "output_type": "stream",
     "text": [
      "\n",
      "Dataset split: 800 samples for training, 200 for testing.\n",
      "\n",
      "DecisionTreeRegressor model trained successfully.\n"
     ]
    }
   ],
   "source": [
    "if not ambient_lux_data.empty:\n",
    "\n",
    "    X = df_train[['Ambient Lux', 'Desired Lux']]\n",
    "    y = df_train['Dimming Level (%)']\n",
    "\n",
    "    X_train, X_test, y_train, y_test = train_test_split(\n",
    "        X, y, test_size=0.2, random_state=42\n",
    "    )\n",
    "    \n",
    "    print(f\"\\nDataset split: {len(X_train)} samples for training, {len(X_test)} for testing.\")\n",
    "\n",
    "    model = DecisionTreeRegressor(max_depth=7, random_state=42)\n",
    "    model.fit(X_train, y_train)\n",
    "\n",
    "    print(\"\\nDecisionTreeRegressor model trained successfully.\")"
   ]
  },
  {
   "cell_type": "markdown",
   "id": "3791f160",
   "metadata": {},
   "source": [
    " \n",
    "## Model Evaluation\n",
    " \n",
    "To see if the model performs well, an evaluation on the remaining 20% of the dataset is done, using the Mean Squared error, the R-squared and a visual representation to interpret the predictions. The aim is a value of R² close to 1.0, which indicates that nearly all variance is explained by the model.\n",
    " "
   ]
  },
  {
   "cell_type": "code",
   "execution_count": null,
   "id": "71b81e7c",
   "metadata": {},
   "outputs": [
    {
     "name": "stdout",
     "output_type": "stream",
     "text": [
      "\n",
      "--- Model Performance ---\n",
      "Mean Squared Error (MSE): 3.8829\n",
      "R-squared (R²): 0.9952\n",
      "-------------------------\n"
     ]
    },
    {
     "data": {
      "image/png": "[encoded data removed]",
      "text/plain": [
       "<Figure size 1000x600 with 1 Axes>"
      ]
     },
     "metadata": {},
     "output_type": "display_data"
    }
   ],
   "source": [
    "if not ambient_lux_data.empty:\n",
    "    \n",
    "    y_pred = model.predict(X_test)\n",
    "\n",
    "    mse = mean_squared_error(y_test, y_pred)\n",
    "    r2 = r2_score(y_test, y_pred)\n",
    "\n",
    "    print(\"\\n--- Model Performance ---\")\n",
    "    print(f\"Mean Squared Error (MSE): {mse:.4f}\")\n",
    "    print(f\"R-squared (R²): {r2:.4f}\")\n",
    "    print(\"-------------------------\"\n",
    "\n",
    "    plt.figure(figsize=(10, 6))\n",
    "    sns.scatterplot(x=y_test, y=y_pred, alpha=0.6)\n",
    "    plt.plot([y_test.min(), y_test.max()], [y_test.min(), y_test.max()], '--', color='red', lw=2)\n",
    "    plt.title('Actual vs. Predicted Values')\n",
    "    plt.xlabel('Actual Dimming Level (%)')\n",
    "    plt.ylabel('Predicted Dimming Level (%)')\n",
    "    plt.grid(True)\n",
    "    plt.show()"
   ]
  },
  {
   "cell_type": "markdown",
   "id": "1937e902",
   "metadata": {},
   "source": [
    "\n",
    "## Model Conversion\n",
    "\n",
    "The model is now ready to be converted to suit the embedded environment of the NORDIC nRF52840 dongle \n"
   ]
  },
  {
   "cell_type": "code",
   "execution_count": 11,
   "id": "6659ba8a",
   "metadata": {},
   "outputs": [
    {
     "name": "stdout",
     "output_type": "stream",
     "text": [
      "\n",
      "Training workflow complete. The model is ready for conversion to an embedded format.\n",
      "Wrote model to dimming_forecast.h\n"
     ]
    }
   ],
   "source": [
    "import emlearn\n",
    "\n",
    "if ambient_lux_data.empty:\n",
    "    print(\"\\nExecution finished with errors because the input file was missing.\")\n",
    "else:\n",
    "    print(\"\\nTraining workflow complete. The model is ready for conversion to an embedded format.\")\n",
    "\n",
    "    path = 'dimming_forecast.h'\n",
    "\n",
    "    cmodel = emlearn.convert(model, method='inline')\n",
    "\n",
    "    cmodel.save(file=path, name='dimming_forecast')\n",
    "\n",
    "    print('Wrote model to', path)"
   ]
  }
 ],
 "metadata": {
  "kernelspec": {
   "display_name": "GP",
   "language": "python",
   "name": "python3"
  },
  "language_info": {
   "codemirror_mode": {
    "name": "ipython",
    "version": 3
   },
   "file_extension": ".py",
   "mimetype": "text/x-python",
   "name": "python",
   "nbconvert_exporter": "python",
   "pygments_lexer": "ipython3",
   "version": "3.11.10"
  }
 },
 "nbformat": 4,
 "nbformat_minor": 5
}
